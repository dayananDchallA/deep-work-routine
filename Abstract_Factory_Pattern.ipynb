{
 "cells": [
  {
   "cell_type": "markdown",
   "id": "2709f05a-ce55-4ef6-a400-fe7ceb17a373",
   "metadata": {},
   "source": [
    "### Abstract Factory Pattern\n",
    "\n",
    "The Abstract Factory Design Pattern is a creational pattern that provides a framework to create interfaces of closely related objects without specifying their classes - hence the term \"abstract\".\n",
    "\n",
    "An abstract class is partially implemented and defines the requirements that its child classes should have and some generic child behavior as well as what functions they should have. Concrete classes extend abstract classes and provide the unimplemented functionality, while inheriting the common functionalities."
   ]
  },
  {
   "cell_type": "markdown",
   "id": "d604c0ad-4768-4432-9971-b0d82ebb8184",
   "metadata": {},
   "source": [
    "First off, we create the abstract products - Browser and Messenger as:"
   ]
  },
  {
   "cell_type": "code",
   "execution_count": 1,
   "id": "3f735bc2-c397-4c2b-a6cb-d490d115477b",
   "metadata": {},
   "outputs": [],
   "source": [
    "from abc import ABC, abstractmethod\n",
    "\n",
    "class Browser(ABC):\n",
    "    \"\"\"\n",
    "    Creates \"Abstract Product A\"\n",
    "    \"\"\"\n",
    "\n",
    "    # Interface - Create Search Toolbar\n",
    "    @abstractmethod\n",
    "    def create_search_toolbar(self):\n",
    "        pass\n",
    "\n",
    "    # Interface - Create Browser Window\n",
    "    @abstractmethod\n",
    "    def create_browser_window(self):\n",
    "        pass"
   ]
  },
  {
   "cell_type": "code",
   "execution_count": 2,
   "id": "51b84da8-9584-49ba-aa0a-269d87fe817d",
   "metadata": {},
   "outputs": [],
   "source": [
    "class Messenger(ABC):\n",
    "    \"\"\"\n",
    "    Creates \"Abstract Product B\"\n",
    "    \"\"\"\n",
    "\n",
    "    @abstractmethod\n",
    "    # Interface - Create Messenger Window\n",
    "    def create_messenger_window(self):\n",
    "        pass"
   ]
  },
  {
   "cell_type": "markdown",
   "id": "2d5eb5a0-2baa-49fe-b229-10ba0a457a57",
   "metadata": {},
   "source": [
    "These act as base classes to the following concrete classes i.e. product variants of the abstract products - vanilla and secure:"
   ]
  },
  {
   "cell_type": "code",
   "execution_count": 3,
   "id": "90c313d6-56c2-4cf5-bed7-72fde97435a7",
   "metadata": {},
   "outputs": [],
   "source": [
    "class VanillaBrowser(Browser):\n",
    "    \"\"\"\n",
    "    Type: Concrete Product\n",
    "    Abstract methods of the Browser base class are implemented.\n",
    "    \"\"\"\n",
    "\n",
    "    # Interface - Create Search Toolbar\n",
    "    def create_search_toolbar(self):\n",
    "        print(\"Search Toolbar Created\")\n",
    "\n",
    "    # Interface - Create Browser Window]\n",
    "    def create_browser_window(self):\n",
    "        print(\"Browser Window Created\")"
   ]
  },
  {
   "cell_type": "code",
   "execution_count": 4,
   "id": "baca0f33-d69c-4636-9c68-6836064914a1",
   "metadata": {},
   "outputs": [],
   "source": [
    "class VanillaMessenger(Messenger):\n",
    "    \"\"\"\n",
    "    Type: Concrete Product\n",
    "    Abstract methods of the Messenger base class are implemented.\n",
    "    \"\"\"\n",
    "\n",
    "    # Interface - Create Messenger Window\n",
    "    def create_messenger_window(self):\n",
    "        print(\"Messenger Window Created\")"
   ]
  },
  {
   "cell_type": "code",
   "execution_count": 5,
   "id": "7a47666e-3713-425b-8789-919c4e413f65",
   "metadata": {},
   "outputs": [],
   "source": [
    "class SecureBrowser(Browser):\n",
    "    \"\"\"\n",
    "    Type: Concrete Product\n",
    "    Abstract methods of the Browser base class are implemented.\n",
    "    \"\"\"\n",
    "\n",
    "    # Abstract Method of the Browser base class\n",
    "    def create_search_toolbar(self):\n",
    "        print(\"Secure Browser - Search Toolbar Created\")\n",
    "\n",
    "    # Abstract Method of the Browser base class\n",
    "    def create_browser_window(self):\n",
    "        print(\"Secure Browser - Browser Window Created\")\n",
    "\n",
    "    def create_incognito_mode(self):\n",
    "        print(\"Secure Browser - Incognito Mode Created\")"
   ]
  },
  {
   "cell_type": "code",
   "execution_count": 6,
   "id": "010b7fb1-9fb0-4977-b08d-c3836092c058",
   "metadata": {},
   "outputs": [],
   "source": [
    "class SecureMessenger(Messenger):\n",
    "    \"\"\"\n",
    "    Type: Concrete Product\n",
    "    Abstract methods of the Messenger base class are implemented.\n",
    "    \"\"\"\n",
    "\n",
    "    # Abstract Method of the Messenger base class\n",
    "    def create_messenger_window(self):\n",
    "        print(\"Secure Messenger - Messenger Window Created\")\n",
    "\n",
    "    def create_privacy_filter(self):\n",
    "        print(\"Secure Messenger - Privacy Filter Created\")\n",
    "\n",
    "    def disappearing_messages(self):\n",
    "        print(\"Secure Messenger - Disappearing Messages Feature Enabled\")"
   ]
  },
  {
   "cell_type": "markdown",
   "id": "e201e7f0-13a1-4b8b-a268-3fa46b43822a",
   "metadata": {},
   "source": [
    "You can notice that apart from the abstract methods, there are also extra features added to the concrete products to make them functional in their own context.\n",
    "\n",
    "We are almost there. Let's now create the abstract factory itself and the corresponding concrete factories as:"
   ]
  },
  {
   "cell_type": "code",
   "execution_count": 7,
   "id": "d3a6458b-295a-4722-aa63-a6940dfa3dfb",
   "metadata": {},
   "outputs": [],
   "source": [
    "class AbstractFactory(ABC):\n",
    "    \"\"\"\n",
    "    The Abstract Factory\n",
    "    \"\"\"\n",
    "\n",
    "    @abstractmethod\n",
    "    def create_browser(self):\n",
    "        pass\n",
    "\n",
    "    @abstractmethod\n",
    "    def create_messenger(self):\n",
    "        pass"
   ]
  },
  {
   "cell_type": "code",
   "execution_count": 8,
   "id": "cca5d573-a33c-41f2-a878-a69afb2fc0df",
   "metadata": {},
   "outputs": [],
   "source": [
    "class VanillaProductsFactory(AbstractFactory):\n",
    "    \"\"\"\n",
    "    Type: Concrete Factory\n",
    "    Implement the operations to create concrete product objects.\n",
    "    \"\"\"\n",
    "\n",
    "    def create_browser(self):\n",
    "        return VanillaBrowser()\n",
    "\n",
    "    def create_messenger(self):\n",
    "        return VanillaMessenger()"
   ]
  },
  {
   "cell_type": "code",
   "execution_count": 9,
   "id": "094eaef9-abad-4bf3-8ebf-81de8cdc79e1",
   "metadata": {},
   "outputs": [],
   "source": [
    "class SecureProductsFactory(AbstractFactory):\n",
    "    \"\"\"\n",
    "    Type: Concrete Factory\n",
    "    Implement the operations to create concrete product objects.\n",
    "    \"\"\"\n",
    "\n",
    "    def create_browser(self):\n",
    "        return SecureBrowser()\n",
    "\n",
    "    def create_messenger(self):\n",
    "        return SecureMessenger()"
   ]
  },
  {
   "cell_type": "code",
   "execution_count": 10,
   "id": "c3d69ec7-ea01-4216-b8d1-847620271524",
   "metadata": {},
   "outputs": [
    {
     "name": "stdout",
     "output_type": "stream",
     "text": [
      "Browser Window Created\n",
      "Search Toolbar Created\n",
      "Messenger Window Created\n",
      "Secure Browser - Browser Window Created\n",
      "Secure Browser - Search Toolbar Created\n",
      "Secure Messenger - Messenger Window Created\n"
     ]
    }
   ],
   "source": [
    "def main():\n",
    "    for factory in (VanillaProductsFactory(), SecureProductsFactory()):\n",
    "        product_a = factory.create_browser()\n",
    "        product_b = factory.create_messenger()\n",
    "        product_a.create_browser_window()\n",
    "        product_a.create_search_toolbar()\n",
    "        product_b.create_messenger_window()\n",
    "\n",
    "if __name__ == \"__main__\":\n",
    "    main()"
   ]
  },
  {
   "cell_type": "code",
   "execution_count": null,
   "id": "a535fbe1-0b0e-4777-ac1a-4c49e4f18220",
   "metadata": {},
   "outputs": [],
   "source": []
  }
 ],
 "metadata": {
  "kernelspec": {
   "display_name": "Python 3 (ipykernel)",
   "language": "python",
   "name": "python3"
  },
  "language_info": {
   "codemirror_mode": {
    "name": "ipython",
    "version": 3
   },
   "file_extension": ".py",
   "mimetype": "text/x-python",
   "name": "python",
   "nbconvert_exporter": "python",
   "pygments_lexer": "ipython3",
   "version": "3.8.12"
  }
 },
 "nbformat": 4,
 "nbformat_minor": 5
}
