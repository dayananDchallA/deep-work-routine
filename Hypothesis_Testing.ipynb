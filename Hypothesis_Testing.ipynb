{
 "cells": [
  {
   "cell_type": "code",
   "execution_count": 1,
   "id": "cbde881f-1033-4dc8-bdbe-614aef8a0e57",
   "metadata": {},
   "outputs": [],
   "source": [
    "import math\n",
    "import numpy as np\n",
    "from numpy.random import randn\n",
    "from statsmodels.stats.weightstats import ztest"
   ]
  },
  {
   "cell_type": "code",
   "execution_count": 2,
   "id": "60c28685-0964-41b7-8231-b7012597576a",
   "metadata": {},
   "outputs": [],
   "source": [
    "#before climate crisis\n",
    "null_mean = 13\n",
    "alpha =0.05"
   ]
  },
  {
   "cell_type": "code",
   "execution_count": 3,
   "id": "8abfdad2-d723-4923-a0ce-1e487f109069",
   "metadata": {},
   "outputs": [],
   "source": [
    "#after climate crisis\n",
    "sample_measures = [15,36,23,86,22,12,22,21,18,19,18,36,23,86,22,12,22,21,]\n",
    "new_mean = np.mean(sample_measures)"
   ]
  },
  {
   "cell_type": "code",
   "execution_count": 5,
   "id": "3ad95ecf-cd2b-4284-9c6c-884d86696832",
   "metadata": {},
   "outputs": [
    {
     "name": "stdout",
     "output_type": "stream",
     "text": [
      "z_score=3.022627398730234\n",
      "p_value=0.0012529528908402413 alpha=0.05\n",
      "Reject Null Hypothesis\n"
     ]
    }
   ],
   "source": [
    "# the function outputs a p_value and z-score \n",
    "z_score, p_value= ztest(sample_measures,value = null_mean, alternative='larger')\n",
    "print(f'z_score={z_score}')\n",
    "print(f'p_value={p_value}', f'alpha={alpha}')\n",
    "\n",
    "# lets p-value with alpha\n",
    "if(p_value < alpha):\n",
    "  print(\"Reject Null Hypothesis\")\n",
    "else:\n",
    "  print(\"Fail to Reject NUll Hypothesis\")"
   ]
  },
  {
   "cell_type": "code",
   "execution_count": null,
   "id": "263914c4-812c-4abf-9311-90a9b8e2c344",
   "metadata": {},
   "outputs": [],
   "source": []
  }
 ],
 "metadata": {
  "kernelspec": {
   "display_name": "Python 3 (ipykernel)",
   "language": "python",
   "name": "python3"
  },
  "language_info": {
   "codemirror_mode": {
    "name": "ipython",
    "version": 3
   },
   "file_extension": ".py",
   "mimetype": "text/x-python",
   "name": "python",
   "nbconvert_exporter": "python",
   "pygments_lexer": "ipython3",
   "version": "3.8.12"
  }
 },
 "nbformat": 4,
 "nbformat_minor": 5
}
