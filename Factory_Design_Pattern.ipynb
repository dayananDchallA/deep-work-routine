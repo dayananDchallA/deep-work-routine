{
 "cells": [
  {
   "cell_type": "markdown",
   "id": "3c0e6a9e-81cf-4d89-89f8-83d90e86ad5b",
   "metadata": {},
   "source": [
    "### Factory\n",
    "The Factory Method is used in object-oriented programming as a means to provide factory interfaces for creating objects. These interfaces define the generic structure, but don't initialize objects. The initialization is left to more specific subclasses.\n",
    "\n",
    "The parent class/interface houses all the standard and generic behaviour that can be shared across subclasses of different types. The subclass is in turn responsible for the definition and instantiation of the object based on the superclass."
   ]
  },
  {
   "cell_type": "code",
   "execution_count": 1,
   "id": "5dc14257-f9c3-40cf-ae3f-292d9c66a1eb",
   "metadata": {},
   "outputs": [],
   "source": [
    "import abc\n",
    "class Shape(metaclass=abc.ABCMeta):\n",
    "    @abc.abstractmethod\n",
    "    def calculate_area(self):\n",
    "        pass\n",
    "\n",
    "    @abc.abstractmethod\n",
    "    def calculate_perimeter(self):\n",
    "        pass"
   ]
  },
  {
   "cell_type": "code",
   "execution_count": 2,
   "id": "7184a95a-e1bd-4163-8446-91f9f28dfee7",
   "metadata": {},
   "outputs": [],
   "source": [
    "class Rectangle(Shape):\n",
    "    def __init__(self, height, width):\n",
    "        self.height = height\n",
    "        self.width = width\n",
    "\n",
    "    def calculate_area(self):\n",
    "        return self.height * self.width \n",
    "\n",
    "    def calculate_perimeter(self):\n",
    "        return 2 * (self.height + self.width)"
   ]
  },
  {
   "cell_type": "code",
   "execution_count": 3,
   "id": "bf756bad-1437-45a4-b2fb-4e0db3293096",
   "metadata": {},
   "outputs": [],
   "source": [
    "class Square(Shape):\n",
    "    def __init__(self, width):\n",
    "        self.width = width\n",
    "\n",
    "    def calculate_area(self):\n",
    "        return self.width ** 2\n",
    "\n",
    "    def calculate_perimeter(self):\n",
    "        return 4 * self.width"
   ]
  },
  {
   "cell_type": "code",
   "execution_count": 4,
   "id": "fcdc9588-0a6a-45d4-90ec-32d893003b03",
   "metadata": {},
   "outputs": [],
   "source": [
    "class Circle(Shape):\n",
    "    def __init__(self, radius):\n",
    "        self.radius = radius\n",
    "\n",
    "    def calculate_area(self):\n",
    "        return 3.14 * self.radius * self.radius\n",
    "\n",
    "    def calculate_perimeter(self):\n",
    "        return 2 * 3.14 * self.radius"
   ]
  },
  {
   "cell_type": "code",
   "execution_count": 5,
   "id": "e58abbb5-3edb-4750-8309-c1ca17f8d530",
   "metadata": {},
   "outputs": [],
   "source": [
    "class ShapeFactory:\n",
    "    def create_shape(self, name):\n",
    "        if name == 'circle':\n",
    "            radius = input(\"Enter the radius of the circle: \")\n",
    "            return Circle(float(radius))\n",
    "\n",
    "        elif name == 'rectangle':\n",
    "            height = input(\"Enter the height of the rectangle: \")\n",
    "            width = input(\"Enter the width of the rectangle: \")\n",
    "            return Rectangle(int(height), int(width))\n",
    "\n",
    "        elif name == 'square':\n",
    "            width = input(\"Enter the width of the square: \")\n",
    "            return Square(int(width))"
   ]
  },
  {
   "cell_type": "code",
   "execution_count": 6,
   "id": "370c3930-93f2-4430-a5e7-a702803ed0d4",
   "metadata": {},
   "outputs": [],
   "source": [
    "def shapes_client():\n",
    "    shape_factory = ShapeFactory()\n",
    "    shape_name = input(\"Enter the name of the shape: \")\n",
    "\n",
    "    shape = shape_factory.create_shape(shape_name)\n",
    "\n",
    "    print(f\"The type of object created: {type(shape)}\")\n",
    "    print(f\"The area of the {shape_name} is: {shape.calculate_area()}\")\n",
    "    print(f\"The perimeter of the {shape_name} is: {shape.calculate_perimeter()}\")"
   ]
  },
  {
   "cell_type": "code",
   "execution_count": 8,
   "id": "a4e71e6b-c334-43c5-8b71-9cd71cb1a9a0",
   "metadata": {},
   "outputs": [
    {
     "name": "stdin",
     "output_type": "stream",
     "text": [
      "Enter the name of the shape:  circle\n",
      "Enter the radius of the circle:  7\n"
     ]
    },
    {
     "name": "stdout",
     "output_type": "stream",
     "text": [
      "The type of object created: <class '__main__.Circle'>\n",
      "The area of the circle is: 153.86\n",
      "The perimeter of the circle is: 43.96\n"
     ]
    }
   ],
   "source": [
    "shapes_client()"
   ]
  },
  {
   "cell_type": "code",
   "execution_count": 9,
   "id": "40122c19-4903-4aaa-8d73-201c8bb316bc",
   "metadata": {},
   "outputs": [
    {
     "name": "stdin",
     "output_type": "stream",
     "text": [
      "Enter the name of the shape:  square\n",
      "Enter the width of the square:  5\n"
     ]
    },
    {
     "name": "stdout",
     "output_type": "stream",
     "text": [
      "The type of object created: <class '__main__.Square'>\n",
      "The area of the square is: 25\n",
      "The perimeter of the square is: 20\n"
     ]
    }
   ],
   "source": [
    "shapes_client()"
   ]
  },
  {
   "cell_type": "markdown",
   "id": "c5e1d98f-bd45-4cf3-a7d4-94f7c3d39451",
   "metadata": {},
   "source": [
    "ref: https://stackabuse.com/the-factory-method-design-pattern-in-python/"
   ]
  },
  {
   "cell_type": "code",
   "execution_count": null,
   "id": "9ed1be19-d934-4a40-a32b-1f399f230607",
   "metadata": {},
   "outputs": [],
   "source": []
  }
 ],
 "metadata": {
  "kernelspec": {
   "display_name": "Python 3 (ipykernel)",
   "language": "python",
   "name": "python3"
  },
  "language_info": {
   "codemirror_mode": {
    "name": "ipython",
    "version": 3
   },
   "file_extension": ".py",
   "mimetype": "text/x-python",
   "name": "python",
   "nbconvert_exporter": "python",
   "pygments_lexer": "ipython3",
   "version": "3.8.12"
  }
 },
 "nbformat": 4,
 "nbformat_minor": 5
}
